{
 "cells": [
  {
   "cell_type": "code",
   "execution_count": 4,
   "id": "a4fd1767-100b-439e-9273-6207d60bcc19",
   "metadata": {
    "tags": []
   },
   "outputs": [],
   "source": [
    "import json\n",
    "import pandas as pd\n",
    "import time"
   ]
  },
  {
   "cell_type": "code",
   "execution_count": 28,
   "id": "beabab6c-5ac4-4049-b5b2-c5398a5a976d",
   "metadata": {
    "tags": []
   },
   "outputs": [],
   "source": [
    "# insert own key for sportsdataio\n",
    "KEY = None \n",
    "\n",
    "# seasons for data available on sportsdataio\n",
    "SEASONS = [\n",
    "    '2002', '2003','2004', '2005', '2006', '2007', '2008', '2009', '2010', \n",
    "    '2011', '2012', '2013', '2014', '2015', '2016', '2017', '2018', '2019', \n",
    "    '2020', '2021', '2022'\n",
    "]\n",
    "\n",
    "# how many weeks in the regular and post season for NFL seasons\n",
    "WEEKS_REG = 17\n",
    "WEEKS_POST = 4\n",
    "\n",
    "# array for every dataframe\n",
    "dfs = []\n",
    "\n",
    "for SEASON in SEASONS:\n",
    "    # for every regular season week\n",
    "    for week in range(1, WEEKS_REG+1):\n",
    "        URL = f\"https://api.sportsdata.io/v3/nfl/scores/json/TeamGameStats/{SEASON}/{week}?key={KEY}\"\n",
    "        dfs.append(pd.read_json(URL))\n",
    "        time.sleep(5)\n",
    "\n",
    "    # for every post season week\n",
    "    for week in range(1, WEEKS_POST+1):\n",
    "        URL = f\"https://api.sportsdata.io/v3/nfl/scores/json/TeamGameStats/{SEASON}POST/{week}?key={KEY}\"\n",
    "        dfs.append(pd.read_json(URL))\n",
    "        time.sleep(5)\n",
    "        \n",
    "# concatenate all the data into one big dataframe\n",
    "game_stats = pd.concat(dfs, ignore_index = True)"
   ]
  },
  {
   "cell_type": "code",
   "execution_count": 32,
   "id": "84b7f971-bcf4-48ca-8887-6198fca7566d",
   "metadata": {
    "tags": []
   },
   "outputs": [],
   "source": [
    "game_stats.to_csv('betting/game_stats.csv')"
   ]
  }
 ],
 "metadata": {
  "kernelspec": {
   "display_name": "Python 3 (ipykernel)",
   "language": "python",
   "name": "python3"
  },
  "language_info": {
   "codemirror_mode": {
    "name": "ipython",
    "version": 3
   },
   "file_extension": ".py",
   "mimetype": "text/x-python",
   "name": "python",
   "nbconvert_exporter": "python",
   "pygments_lexer": "ipython3",
   "version": "3.11.5"
  }
 },
 "nbformat": 4,
 "nbformat_minor": 5
}
